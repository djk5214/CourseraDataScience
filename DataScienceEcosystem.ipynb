{
 "cells": [
  {
   "cell_type": "markdown",
   "id": "82904a7c-dc36-4aac-bc18-38eb52686e66",
   "metadata": {},
   "source": [
    "<h1>Data Science Tools and Ecosystem<h1>"
   ]
  },
  {
   "cell_type": "markdown",
   "id": "dd1fc57b-91ef-46dc-beee-6c187cf2b932",
   "metadata": {
    "tags": []
   },
   "source": [
    "<h2>Author<h2>\n",
    "\n",
    "Dan Karrasch"
   ]
  },
  {
   "cell_type": "markdown",
   "id": "d5f68738-beed-4392-9e0c-be7fc4bf18c6",
   "metadata": {
    "tags": []
   },
   "source": [
    "In this notebook, Data Science Tools and Ecosystem are summarized."
   ]
  },
  {
   "cell_type": "markdown",
   "id": "6352f0da-de9c-4e3d-94e4-5f6fc1cf4dc1",
   "metadata": {},
   "source": [
    "Objectives:\n",
    "- List popular languages for data science\n",
    "- List commonly used libraries for data science\n",
    "- Create table with open-source development environments\n",
    "- Evaluate basic arithmetic expressions"
   ]
  },
  {
   "cell_type": "markdown",
   "id": "990c2fa1-1eb5-4b51-be21-b7a519fd59b2",
   "metadata": {},
   "source": [
    "Some of the popular languages that Data Scientists use are:\n",
    "1. Python\n",
    "2. R\n",
    "3. SQL\n",
    "4. Scala\n",
    "5. Java\n",
    "6. C++"
   ]
  },
  {
   "cell_type": "markdown",
   "id": "4e5746e2-1f9b-4139-b756-94b5fba0b579",
   "metadata": {},
   "source": [
    "Some of the commonly used libraries used by Data Scientists include:\n",
    "1. Pandas \n",
    "2. NumPy \n",
    "3. SciPy \n",
    "4. Matplotlib"
   ]
  },
  {
   "cell_type": "markdown",
   "id": "26ff18fd-ee1c-4a2e-886a-c67a99820093",
   "metadata": {},
   "source": [
    "|Data Science Tools|\n",
    "|----|\n",
    "|JupyterLab|\n",
    "|JupyterLite|\n",
    "|VS Code|"
   ]
  },
  {
   "cell_type": "markdown",
   "id": "b64d3934-1d0b-429f-83ac-f0640fdfbdd6",
   "metadata": {},
   "source": [
    "<h3>Below are a few examples of evaluating arithmetic expressions in Python<h3>"
   ]
  },
  {
   "cell_type": "code",
   "execution_count": 1,
   "id": "1458e73d-2220-447a-92cb-e578ea5f9940",
   "metadata": {
    "tags": []
   },
   "outputs": [
    {
     "data": {
      "text/plain": [
       "17"
      ]
     },
     "execution_count": 1,
     "metadata": {},
     "output_type": "execute_result"
    }
   ],
   "source": [
    "#This a simple arithmetic expression to mutiply then add integers\n",
    "\n",
    "(3*4)+5"
   ]
  },
  {
   "cell_type": "code",
   "execution_count": 2,
   "id": "ad693c3a-0733-4fb8-b172-b52189b3caeb",
   "metadata": {
    "tags": []
   },
   "outputs": [
    {
     "data": {
      "text/plain": [
       "3.3333333333333335"
      ]
     },
     "execution_count": 2,
     "metadata": {},
     "output_type": "execute_result"
    }
   ],
   "source": [
    "#This will convert 200 minutes to hours by diving by 60\n",
    "\n",
    "200 #hours\n",
    "200/60 #minutes"
   ]
  },
  {
   "cell_type": "code",
   "execution_count": null,
   "id": "37dbe8ff-e914-4a15-bb4f-1e24a646d487",
   "metadata": {},
   "outputs": [],
   "source": []
  }
 ],
 "metadata": {
  "kernelspec": {
   "display_name": "Python",
   "language": "python",
   "name": "conda-env-python-py"
  },
  "language_info": {
   "codemirror_mode": {
    "name": "ipython",
    "version": 3
   },
   "file_extension": ".py",
   "mimetype": "text/x-python",
   "name": "python",
   "nbconvert_exporter": "python",
   "pygments_lexer": "ipython3",
   "version": "3.7.12"
  }
 },
 "nbformat": 4,
 "nbformat_minor": 5
}
